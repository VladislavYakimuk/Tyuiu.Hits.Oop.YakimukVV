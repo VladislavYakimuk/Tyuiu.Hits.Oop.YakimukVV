{
 "cells": [
  {
   "cell_type": "markdown",
   "metadata": {},
   "source": [
    "<h1 style=\"color:DodgerBlue\">Индивидальный проект</h1>"
   ]
  },
  {
   "cell_type": "markdown",
   "metadata": {},
   "source": [
    "<h2 style=\"color:DodgerBlue\">Название проекта:</h2>\n",
    "\n",
    "----\n",
    "\n",
    "### Вариант задания №24\n"
   ]
  },
  {
   "cell_type": "markdown",
   "metadata": {},
   "source": [
    "<h2 style=\"color:DodgerBlue\">Описание проекта:</h2>\n",
    "\n",
    "----\n",
    "\n",
    "Описание задачи:\n",
    "Создать базовый класс Notification в C#, который будет представлять уведомления\n",
    "пользователям. На основе этого класса разработать 2-3 производных класса,\n",
    "демонстрирующих принципы наследования и полиморфизма. В каждом из классов\n",
    "должны быть реализованы новые атрибуты и методы, а также переопределены\n",
    "некоторые методы базового класса для демонстрации полиморфизма.\n",
    "\n",
    "Требования к базовому классу Notification:\n",
    "• Атрибуты: ID уведомления (NotificationId), Текст уведомления (MessageText),\n",
    "Тип уведомления (Type).\n",
    "• Методы:\n",
    "o DisplayNotification(): метод для отображения уведомления\n",
    "пользователю.\n",
    "o SendNotification(): метод для отправки уведомления.\n",
    "o GetNotificationDetails(): метод для получения деталей уведомления.\n",
    "\n",
    "Требования к производным классам:\n",
    "1. EmailУведомление (EmailNotification): Должно содержать дополнительные\n",
    "атрибуты, такие как Адрес электронной почты (EmailAddress).\n",
    "Метод SendNotification() должен быть переопределен для отправки\n",
    "уведомления по электронной почте.\n",
    "2. SMSУведомление (SMSNotification): Должно содержать дополнительные\n",
    "атрибуты, такие как Номер телефона (PhoneNumber).\n",
    "Метод SendNotification() должен быть переопределен для отправки\n",
    "уведомления через SMS.\n",
    "3. PushУведомление (PushNotification) (если требуется третий класс): Должно\n",
    "содержать дополнительные атрибуты, такие как Платформа (Platform,\n",
    "например, iOS или Android). Метод DisplayNotification() должен быть\n",
    "переопределен для отображения уведомления на мобильной платформе.\n"
   ]
  },
  {
   "cell_type": "markdown",
   "metadata": {},
   "source": [
    "<h2 style=\"color:DodgerBlue\">Реализация:</h2>\n",
    "\n",
    "----"
   ]
  },
  {
   "cell_type": "code",
   "execution_count": 1,
   "metadata": {
    "dotnet_interactive": {
     "language": "csharp"
    },
    "polyglot_notebook": {
     "kernelName": "csharp"
    }
   },
   "outputs": [
    {
     "name": "stdout",
     "output_type": "stream",
     "text": [
      "[Уведомление] Проверьте вашу почту!\n",
      "Email отправлен на user@example.com: Проверьте вашу почту!\n",
      "ID: 1, Тип: Email, Текст: Проверьте вашу почту!, Email: user@example.com\n",
      "[Уведомление] Ваш код: 1234\n",
      "SMS отправлено на +79991234567: Ваш код: 1234\n",
      "ID: 2, Тип: SMS, Текст: Ваш код: 1234, Телефон: +79991234567\n",
      "Push на Android: Новое обновление доступно!\n",
      "Уведомление отправлено.\n",
      "ID: 3, Тип: Push, Текст: Новое обновление доступно!, Платформа: Android\n"
     ]
    }
   ],
   "source": [
    "// Базовый класс Notification\n",
    "public class Notification\n",
    "{\n",
    "    public int NotificationId { get; set; }\n",
    "    public string MessageText { get; set; }\n",
    "    public string Type { get; set; }\n",
    "\n",
    "    public virtual void DisplayNotification()\n",
    "    {\n",
    "        Console.WriteLine($\"[Уведомление] {MessageText}\");\n",
    "    }\n",
    "\n",
    "    public virtual void SendNotification()\n",
    "    {\n",
    "        Console.WriteLine(\"Уведомление отправлено.\");\n",
    "    }\n",
    "\n",
    "    public virtual string GetNotificationDetails()\n",
    "    {\n",
    "        return $\"ID: {NotificationId}, Тип: {Type}, Текст: {MessageText}\";\n",
    "    }\n",
    "}\n",
    "\n",
    "// EmailNotification\n",
    "public class EmailNotification : Notification\n",
    "{\n",
    "    public string EmailAddress { get; set; }\n",
    "\n",
    "    public override void SendNotification()\n",
    "    {\n",
    "        Console.WriteLine($\"Email отправлен на {EmailAddress}: {MessageText}\");\n",
    "    }\n",
    "\n",
    "    public override string GetNotificationDetails()\n",
    "    {\n",
    "        return base.GetNotificationDetails() + $\", Email: {EmailAddress}\";\n",
    "    }\n",
    "}\n",
    "\n",
    "// SMSNotification\n",
    "public class SMSNotification : Notification\n",
    "{\n",
    "    public string PhoneNumber { get; set; }\n",
    "\n",
    "    public override void SendNotification()\n",
    "    {\n",
    "        Console.WriteLine($\"SMS отправлено на {PhoneNumber}: {MessageText}\");\n",
    "    }\n",
    "\n",
    "    public override string GetNotificationDetails()\n",
    "    {\n",
    "        return base.GetNotificationDetails() + $\", Телефон: {PhoneNumber}\";\n",
    "    }\n",
    "}\n",
    "\n",
    "// PushNotification\n",
    "public class PushNotification : Notification\n",
    "{\n",
    "    public string Platform { get; set; }\n",
    "\n",
    "    public override void DisplayNotification()\n",
    "    {\n",
    "        Console.WriteLine($\"Push на {Platform}: {MessageText}\");\n",
    "    }\n",
    "\n",
    "    public override string GetNotificationDetails()\n",
    "    {\n",
    "        return base.GetNotificationDetails() + $\", Платформа: {Platform}\";\n",
    "    }\n",
    "}\n",
    "\n",
    "// Пример использования:\n",
    "var email = new EmailNotification\n",
    "{\n",
    "    NotificationId = 1,\n",
    "    MessageText = \"Проверьте вашу почту!\",\n",
    "    Type = \"Email\",\n",
    "    EmailAddress = \"user@example.com\"\n",
    "};\n",
    "email.DisplayNotification();\n",
    "email.SendNotification();\n",
    "Console.WriteLine(email.GetNotificationDetails());\n",
    "\n",
    "var sms = new SMSNotification\n",
    "{\n",
    "    NotificationId = 2,\n",
    "    MessageText = \"Ваш код: 1234\",\n",
    "    Type = \"SMS\",\n",
    "    PhoneNumber = \"+79991234567\"\n",
    "};\n",
    "sms.DisplayNotification();\n",
    "sms.SendNotification();\n",
    "Console.WriteLine(sms.GetNotificationDetails());\n",
    "\n",
    "var push = new PushNotification\n",
    "{\n",
    "    NotificationId = 3,\n",
    "    MessageText = \"Новое обновление доступно!\",\n",
    "    Type = \"Push\",\n",
    "    Platform = \"Android\"\n",
    "};\n",
    "push.DisplayNotification();\n",
    "push.SendNotification();\n",
    "Console.WriteLine(push.GetNotificationDetails());"
   ]
  }
 ],
 "metadata": {
  "kernelspec": {
   "display_name": ".NET (C#)",
   "language": "C#",
   "name": ".net-csharp"
  },
  "polyglot_notebook": {
   "kernelInfo": {
    "defaultKernelName": "csharp",
    "items": [
     {
      "aliases": [],
      "languageName": "csharp",
      "name": "csharp"
     }
    ]
   }
  }
 },
 "nbformat": 4,
 "nbformat_minor": 2
}
